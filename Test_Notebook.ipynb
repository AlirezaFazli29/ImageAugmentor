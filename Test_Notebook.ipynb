{
 "cells": [
  {
   "cell_type": "code",
   "execution_count": 1,
   "metadata": {},
   "outputs": [],
   "source": [
    "import services.augmentation_services.aug as aug"
   ]
  },
  {
   "cell_type": "code",
   "execution_count": 2,
   "metadata": {},
   "outputs": [],
   "source": [
    "a = aug.ImageAugmentor()"
   ]
  },
  {
   "cell_type": "code",
   "execution_count": 6,
   "metadata": {},
   "outputs": [
    {
     "name": "stderr",
     "output_type": "stream",
     "text": [
      "Augmentation Process:   3%|▎         | 748/25470 [00:15<05:43, 71.90it/s]"
     ]
    },
    {
     "name": "stdout",
     "output_type": "stream",
     "text": [
      "Skipping cropquandoi36_jpg.rf.0ac6fdd9560df74d2cb9d256e99d8ac8.jpg as it has an empty label file.\n"
     ]
    },
    {
     "name": "stderr",
     "output_type": "stream",
     "text": [
      "Augmentation Process:   4%|▍         | 1030/25470 [00:21<07:28, 54.46it/s]"
     ]
    },
    {
     "name": "stdout",
     "output_type": "stream",
     "text": [
      "Skipping CarLongPlateGen1949_jpg.rf.d46d2051a0bdf89989de975ce6df8476.jpg as it has an empty label file.\n"
     ]
    },
    {
     "name": "stderr",
     "output_type": "stream",
     "text": [
      "Augmentation Process:  15%|█▌        | 3936/25470 [01:23<08:33, 41.97it/s]"
     ]
    },
    {
     "name": "stdout",
     "output_type": "stream",
     "text": [
      "Skipping cropngoaigiao11_jpg.rf.41fbf76f41165965cbb3a283aa24ae02.jpg as it has an empty label file.\n"
     ]
    },
    {
     "name": "stderr",
     "output_type": "stream",
     "text": [
      "Augmentation Process:  19%|█▊        | 4730/25470 [01:40<06:36, 52.32it/s]"
     ]
    },
    {
     "name": "stdout",
     "output_type": "stream",
     "text": [
      "Skipping 00403b390556e56d_jpg.rf.f960dba5262984a3adf36d694ba105f7.jpg as it has an empty label file.\n"
     ]
    },
    {
     "name": "stderr",
     "output_type": "stream",
     "text": [
      "Augmentation Process:  35%|███▌      | 9038/25470 [03:11<05:59, 45.71it/s]"
     ]
    },
    {
     "name": "stdout",
     "output_type": "stream",
     "text": [
      "Skipping cropquandoi105_jpg.rf.0ee1095d64d3c47937cd83d2f3ad11c7.jpg as it has an empty label file.\n"
     ]
    },
    {
     "name": "stderr",
     "output_type": "stream",
     "text": [
      "Augmentation Process:  38%|███▊      | 9688/25470 [03:25<07:19, 35.88it/s]"
     ]
    },
    {
     "name": "stdout",
     "output_type": "stream",
     "text": [
      "Skipping CarLongPlateGen2533_jpg.rf.3a02bd8de0681f6ec8f9f28de037007b.jpg as it has an empty label file.\n"
     ]
    },
    {
     "name": "stderr",
     "output_type": "stream",
     "text": [
      "Augmentation Process:  40%|████      | 10313/25470 [03:39<04:13, 59.71it/s]"
     ]
    },
    {
     "name": "stdout",
     "output_type": "stream",
     "text": [
      "Skipping CarLongPlateGen2824_jpg.rf.7f1f59e40c824920237f74dbe28f6dd6.jpg as it has an empty label file.\n"
     ]
    },
    {
     "name": "stderr",
     "output_type": "stream",
     "text": [
      "Augmentation Process:  41%|████      | 10453/25470 [03:42<03:23, 73.84it/s]"
     ]
    },
    {
     "name": "stdout",
     "output_type": "stream",
     "text": [
      "Skipping 01b09b8072388fdb_jpg.rf.4e493aaf37d1376efb4a4eaacc3ad029.jpg as it has an empty label file.\n"
     ]
    },
    {
     "name": "stderr",
     "output_type": "stream",
     "text": [
      "Augmentation Process:  51%|█████▏    | 13110/25470 [04:37<03:52, 53.08it/s]"
     ]
    },
    {
     "name": "stdout",
     "output_type": "stream",
     "text": [
      "Skipping cropquandoi36_jpg.rf.ef12a176cfeecbace398fe15a1c1c05e.jpg as it has an empty label file.\n"
     ]
    },
    {
     "name": "stderr",
     "output_type": "stream",
     "text": [
      "Augmentation Process:  54%|█████▍    | 13826/25470 [04:52<03:33, 54.47it/s]"
     ]
    },
    {
     "name": "stdout",
     "output_type": "stream",
     "text": [
      "Skipping cropquandoi37_jpg.rf.c43018f08fd7dd4ea2033fa87f506d29.jpg as it has an empty label file.\n"
     ]
    },
    {
     "name": "stderr",
     "output_type": "stream",
     "text": [
      "Augmentation Process:  56%|█████▌    | 14147/25470 [04:59<03:24, 55.50it/s]"
     ]
    },
    {
     "name": "stdout",
     "output_type": "stream",
     "text": [
      "Skipping Cars124_png_jpg.rf.159914b01b5e03cee2aeb2ee57f26726.jpg as it has an empty label file.\n"
     ]
    },
    {
     "name": "stderr",
     "output_type": "stream",
     "text": [
      "Augmentation Process:  56%|█████▋    | 14354/25470 [05:04<03:41, 50.29it/s]"
     ]
    },
    {
     "name": "stdout",
     "output_type": "stream",
     "text": [
      "Skipping CarLongPlateGen2408_jpg.rf.e6b26a0b89c11b449aea490544a97fb2.jpg as it has an empty label file.\n"
     ]
    },
    {
     "name": "stderr",
     "output_type": "stream",
     "text": [
      "Augmentation Process:  59%|█████▉    | 15062/25470 [05:18<02:46, 62.33it/s]"
     ]
    },
    {
     "name": "stdout",
     "output_type": "stream",
     "text": [
      "Skipping 034cc7a1d5e2c556_jpg.rf.7da331d4405422428ec800b33af8a7a1.jpg as it has an empty label file.\n"
     ]
    },
    {
     "name": "stderr",
     "output_type": "stream",
     "text": [
      "Augmentation Process:  64%|██████▍   | 16385/25470 [05:47<02:25, 62.23it/s]"
     ]
    },
    {
     "name": "stdout",
     "output_type": "stream",
     "text": [
      "Skipping Cars209_png_jpg.rf.b53f64f77eb7742f023792b087d99b44.jpg as it has an empty label file.\n"
     ]
    },
    {
     "name": "stderr",
     "output_type": "stream",
     "text": [
      "Augmentation Process:  71%|███████   | 18140/25470 [06:25<02:09, 56.72it/s]"
     ]
    },
    {
     "name": "stdout",
     "output_type": "stream",
     "text": [
      "Skipping 02fdd3b7c77702ec_jpg.rf.b02d87dca54a12a7c21db562a74cdffc.jpg as it has an empty label file.\n"
     ]
    },
    {
     "name": "stderr",
     "output_type": "stream",
     "text": [
      "Augmentation Process:  88%|████████▊ | 22470/25470 [07:54<01:16, 39.27it/s]"
     ]
    },
    {
     "name": "stdout",
     "output_type": "stream",
     "text": [
      "Skipping cropquandoi66_jpg.rf.5973061cf90cfb4c47892554e5c85af2.jpg as it has an empty label file.\n"
     ]
    },
    {
     "name": "stderr",
     "output_type": "stream",
     "text": [
      "Augmentation Process:  96%|█████████▋| 24538/25470 [08:35<00:15, 60.57it/s]"
     ]
    },
    {
     "name": "stdout",
     "output_type": "stream",
     "text": [
      "Skipping cropquandoi2_jpg.rf.b0fabf5eba604aaa3858db2f62cb47a8.jpg as it has an empty label file.\n"
     ]
    },
    {
     "name": "stderr",
     "output_type": "stream",
     "text": [
      "Augmentation Process:  98%|█████████▊| 24864/25470 [08:41<00:08, 67.79it/s]"
     ]
    },
    {
     "name": "stdout",
     "output_type": "stream",
     "text": [
      "Skipping cropquandoi37_jpg.rf.3fda4e24d3edd1e6b3ed132298070562.jpg as it has an empty label file.\n"
     ]
    },
    {
     "name": "stderr",
     "output_type": "stream",
     "text": [
      "Augmentation Process: 100%|██████████| 25470/25470 [08:53<00:00, 47.71it/s]"
     ]
    },
    {
     "name": "stdout",
     "output_type": "stream",
     "text": [
      "All images are successfully augmented and save to the /home/fazli-al/Desktop/files/aug directory\n"
     ]
    },
    {
     "name": "stderr",
     "output_type": "stream",
     "text": [
      "\n"
     ]
    }
   ],
   "source": [
    "a.augment_from_dir(\n",
    "    image_dir=\"/home/fazli-al/Desktop/files/images/train\",\n",
    "    label_dir=\"/home/fazli-al/Desktop/files/labels/train\",\n",
    "    output_dir=\"/home/fazli-al/Desktop/files/aug\",\n",
    "    num_variant=2\n",
    ")"
   ]
  }
 ],
 "metadata": {
  "kernelspec": {
   "display_name": ".venv",
   "language": "python",
   "name": "python3"
  },
  "language_info": {
   "codemirror_mode": {
    "name": "ipython",
    "version": 3
   },
   "file_extension": ".py",
   "mimetype": "text/x-python",
   "name": "python",
   "nbconvert_exporter": "python",
   "pygments_lexer": "ipython3",
   "version": "3.12.3"
  }
 },
 "nbformat": 4,
 "nbformat_minor": 2
}
